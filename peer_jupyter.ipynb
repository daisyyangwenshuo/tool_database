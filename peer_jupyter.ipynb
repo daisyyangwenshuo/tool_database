{
  "nbformat": 4,
  "nbformat_minor": 0,
  "metadata": {
    "colab": {
      "name": "peer_jupyter.ipynb",
      "provenance": [],
      "collapsed_sections": []
    },
    "kernelspec": {
      "name": "python3",
      "display_name": "Python 3"
    },
    "language_info": {
      "name": "python"
    }
  },
  "cells": [
    {
      "cell_type": "markdown",
      "source": [
        "# My Jupyter Notebook on IBM Watson Studio\n",
        "\n"
      ],
      "metadata": {
        "id": "-hKHVzADVpxp"
      }
    },
    {
      "cell_type": "markdown",
      "source": [
        "Wenshuo Yang"
      ],
      "metadata": {
        "id": "3iGyZOBSVzUU"
      }
    },
    {
      "cell_type": "markdown",
      "source": [
        "**I like data science since it is useful in every area.**"
      ],
      "metadata": {
        "id": "aJ7tikfiV1ts"
      }
    },
    {
      "cell_type": "markdown",
      "source": [
        "The following code is for calculate the sum from 1 to 50"
      ],
      "metadata": {
        "id": "2Wzj5_fEV-vS"
      }
    },
    {
      "cell_type": "code",
      "execution_count": 1,
      "metadata": {
        "colab": {
          "base_uri": "https://localhost:8080/"
        },
        "id": "Opvq0EhiVmmE",
        "outputId": "45d426b9-4a94-4b8f-ff8f-0baaadd55b60"
      },
      "outputs": [
        {
          "output_type": "stream",
          "name": "stdout",
          "text": [
            "1275\n"
          ]
        }
      ],
      "source": [
        "sum = 0\n",
        "for i in range(51):\n",
        "  sum = sum + i\n",
        "print(sum)"
      ]
    },
    {
      "cell_type": "markdown",
      "source": [
        "\n",
        "\n",
        "1.   one\n",
        "2.   two\n",
        "3.   three\n",
        "4.   four\n",
        "\n",
        "[www.ibm.com](https://)\n",
        "\n",
        "\n",
        "\n",
        "*   abc\n",
        "*   def\n",
        "*   bby\n",
        "*   mmm\n",
        "\n",
        "\n",
        "\n",
        "\n",
        "\n",
        "\n",
        "\n",
        "\n",
        "\n"
      ],
      "metadata": {
        "id": "5B3mUjuXWPLY"
      }
    }
  ]
}